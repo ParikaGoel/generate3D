{
 "cells": [
  {
   "cell_type": "code",
   "execution_count": 1,
   "metadata": {},
   "outputs": [],
   "source": [
    "import torch\n",
    "import torch.nn as nn\n",
    "import torch.nn.functional as F\n",
    "import torch.optim as optim\n",
    "import torchvision\n",
    "import torchvision.transforms as transforms\n",
    "import matplotlib.pyplot as plt\n",
    "import numpy as np\n",
    "\n",
    "# for image i/o\n",
    "from PIL import Image\n",
    "from matplotlib import image\n",
    "\n",
    "# my library files\n",
    "from config import cfg\n",
    "from image_processing import preprocess_img"
   ]
  },
  {
   "cell_type": "code",
   "execution_count": 2,
   "metadata": {},
   "outputs": [],
   "source": [
    "class Encoder(nn.Module):\n",
    "    \n",
    "    def __init__(self):\n",
    "        super(Encoder,self).__init__()\n",
    "        \n",
    "        self.conv1 = nn.Conv2d(3,8,7)\n",
    "        self.conv2 = nn.Conv2d(8,16,3)\n",
    "        self.conv3 = nn.Conv2d(16,24,3)\n",
    "        \n",
    "        self.fc = nn.Linear(13*13*24,120)\n",
    "    \n",
    "    def num_flat_features(self, x):\n",
    "        size = x.size()[1:]\n",
    "        num_features = 1\n",
    "        for s in size:\n",
    "            num_features *= s\n",
    "        return num_features\n",
    "        \n",
    "    def forward(self,x):\n",
    "        \n",
    "        x = F.relu(self.conv1(x))\n",
    "        print(x.shape)\n",
    "        x = F.max_pool2d(x,2)\n",
    "        print(x.shape)\n",
    "        x = F.relu(self.conv2(x))\n",
    "        print(x.shape)\n",
    "        x = F.max_pool2d(x,2)\n",
    "        print(x.shape)\n",
    "        x = F.relu(self.conv3(x))\n",
    "        print(x.shape)\n",
    "        x = F.max_pool2d(x,2)\n",
    "        print(x.shape)\n",
    "        \n",
    "        x = x.view(-1,self.num_flat_features(x))\n",
    "        print(x.shape)\n",
    "        \n",
    "        x = self.fc(x)\n",
    "        print(x.shape)\n",
    "        \n",
    "        return x"
   ]
  },
  {
   "cell_type": "code",
   "execution_count": 3,
   "metadata": {},
   "outputs": [],
   "source": [
    "# class Net(nn.Module):\n",
    "    \n",
    "#     def __init__(self):\n",
    "#         super(Net,self).__init__()\n",
    "        \n",
    "#         # input shape will be batchSize x nChannels x imgHeight x imgWidth\n",
    "#         self.conv1 = nn.Conv2d(3,96,7)\n",
    "#         self.conv2 = nn.Conv2d(96,128,3)\n",
    "#         self.conv3 = nn.Conv2d(128,256,3)\n",
    "#         self.conv4 = nn.Conv2d(256,256,3)\n",
    "#         self.conv5 = nn.Conv2d(256,256,3)\n",
    "#         self.conv6 = nn.Conv2d(256,256,3)\n",
    "        \n",
    "#         self.fc = nn.Linear(256,1024)\n",
    "    \n",
    "#     def num_flat_features(self, x):\n",
    "#         size = x.size()[1:]\n",
    "#         num_features = 1\n",
    "#         for s in size:\n",
    "#             num_features *= s\n",
    "#         return num_features\n",
    "        \n",
    "#     def forward(self,x):\n",
    "        \n",
    "#         x = F.max_pool2d(F.relu(self.conv1(x)),2)\n",
    "#         x = F.max_pool2d(F.relu(self.conv2(x)),2)\n",
    "#         x = F.max_pool2d(F.relu(self.conv3(x)),2)\n",
    "#         x = F.max_pool2d(F.relu(self.conv4(x)),2)\n",
    "#         x = F.max_pool2d(F.relu(self.conv5(x)),2)\n",
    "#         x = F.max_pool2d(F.relu(self.conv6(x)),2)\n",
    "        \n",
    "#         x = x.view(-1,self.num_flat_features(x))\n",
    "        \n",
    "#         x = self.fc(x)\n",
    "        \n",
    "#         return x"
   ]
  },
  {
   "cell_type": "code",
   "execution_count": 4,
   "metadata": {},
   "outputs": [
    {
     "ename": "NameError",
     "evalue": "name 'Net' is not defined",
     "output_type": "error",
     "traceback": [
      "\u001b[0;31m-----------------------------------------------------------------\u001b[0m",
      "\u001b[0;31mNameError\u001b[0m                       Traceback (most recent call last)",
      "\u001b[0;32m<ipython-input-4-2c1f237fed5e>\u001b[0m in \u001b[0;36m<module>\u001b[0;34m\u001b[0m\n\u001b[0;32m----> 1\u001b[0;31m \u001b[0mencoder\u001b[0m \u001b[0;34m=\u001b[0m \u001b[0mEncoder\u001b[0m\u001b[0;34m(\u001b[0m\u001b[0;34m)\u001b[0m\u001b[0;34m\u001b[0m\u001b[0;34m\u001b[0m\u001b[0m\n\u001b[0m\u001b[1;32m      2\u001b[0m \u001b[0mcriterion\u001b[0m \u001b[0;34m=\u001b[0m \u001b[0mnn\u001b[0m\u001b[0;34m.\u001b[0m\u001b[0mCrossEntropyLoss\u001b[0m\u001b[0;34m(\u001b[0m\u001b[0;34m)\u001b[0m\u001b[0;34m\u001b[0m\u001b[0;34m\u001b[0m\u001b[0m\n\u001b[1;32m      3\u001b[0m \u001b[0moptimizer\u001b[0m \u001b[0;34m=\u001b[0m \u001b[0moptim\u001b[0m\u001b[0;34m.\u001b[0m\u001b[0mSGD\u001b[0m\u001b[0;34m(\u001b[0m\u001b[0mencoder\u001b[0m\u001b[0;34m.\u001b[0m\u001b[0mparameters\u001b[0m\u001b[0;34m(\u001b[0m\u001b[0;34m)\u001b[0m\u001b[0;34m,\u001b[0m\u001b[0mlr\u001b[0m\u001b[0;34m=\u001b[0m\u001b[0;36m0.01\u001b[0m\u001b[0;34m,\u001b[0m \u001b[0mmomentum\u001b[0m\u001b[0;34m=\u001b[0m\u001b[0;36m0.9\u001b[0m\u001b[0;34m)\u001b[0m\u001b[0;34m\u001b[0m\u001b[0;34m\u001b[0m\u001b[0m\n",
      "\u001b[0;32m<ipython-input-2-3a9efd799f9d>\u001b[0m in \u001b[0;36m__init__\u001b[0;34m(self)\u001b[0m\n\u001b[1;32m      2\u001b[0m \u001b[0;34m\u001b[0m\u001b[0m\n\u001b[1;32m      3\u001b[0m     \u001b[0;32mdef\u001b[0m \u001b[0m__init__\u001b[0m\u001b[0;34m(\u001b[0m\u001b[0mself\u001b[0m\u001b[0;34m)\u001b[0m\u001b[0;34m:\u001b[0m\u001b[0;34m\u001b[0m\u001b[0;34m\u001b[0m\u001b[0m\n\u001b[0;32m----> 4\u001b[0;31m         \u001b[0msuper\u001b[0m\u001b[0;34m(\u001b[0m\u001b[0mNet\u001b[0m\u001b[0;34m,\u001b[0m\u001b[0mself\u001b[0m\u001b[0;34m)\u001b[0m\u001b[0;34m.\u001b[0m\u001b[0m__init__\u001b[0m\u001b[0;34m(\u001b[0m\u001b[0;34m)\u001b[0m\u001b[0;34m\u001b[0m\u001b[0;34m\u001b[0m\u001b[0m\n\u001b[0m\u001b[1;32m      5\u001b[0m \u001b[0;34m\u001b[0m\u001b[0m\n\u001b[1;32m      6\u001b[0m         \u001b[0mself\u001b[0m\u001b[0;34m.\u001b[0m\u001b[0mconv1\u001b[0m \u001b[0;34m=\u001b[0m \u001b[0mnn\u001b[0m\u001b[0;34m.\u001b[0m\u001b[0mConv2d\u001b[0m\u001b[0;34m(\u001b[0m\u001b[0;36m3\u001b[0m\u001b[0;34m,\u001b[0m\u001b[0;36m8\u001b[0m\u001b[0;34m,\u001b[0m\u001b[0;36m7\u001b[0m\u001b[0;34m)\u001b[0m\u001b[0;34m\u001b[0m\u001b[0;34m\u001b[0m\u001b[0m\n",
      "\u001b[0;31mNameError\u001b[0m: name 'Net' is not defined"
     ]
    }
   ],
   "source": [
    "encoder = Encoder()\n",
    "criterion = nn.CrossEntropyLoss()\n",
    "optimizer = optim.SGD(encoder.parameters(),lr=0.01, momentum=0.9)"
   ]
  },
  {
   "cell_type": "code",
   "execution_count": null,
   "metadata": {},
   "outputs": [],
   "source": [
    "# first image : /home/parika/WorkingDir/complete3D/data/ShapeNet/ShapeNetRendering/02828884/1a40eaf5919b1b3f3eaa2b95b99dae6/rendering\n",
    "\n",
    "im = Image.open('/home/parika/WorkingDir/complete3D/data/ShapeNet/ShapeNetRendering/02828884/1a40eaf5919b1b3f3eaa2b95b99dae6/rendering/00.png')\n",
    "npimg = preprocess_img(im, True) # preprocess the image for training and get a numpy image\n",
    "plt.imshow(np.transpose(npimg, (0,1,2)))\n",
    "plt.show()\n",
    "\n",
    "img = torch.from_numpy(npimg)\n",
    "img = img.view(1,3,128,128)"
   ]
  },
  {
   "cell_type": "code",
   "execution_count": null,
   "metadata": {},
   "outputs": [],
   "source": [
    "# zero the parameter gradients\n",
    "optimizer.zero_grad()\n",
    "        \n",
    "# forward + backward + optimize\n",
    "output = encoder(img)\n",
    "print(output)\n",
    "# loss = criterion(output, labels)\n",
    "# loss.backward()\n",
    "# optimizer.step()\n",
    "        \n",
    "    \n",
    "print(\"Finished training\")"
   ]
  },
  {
   "cell_type": "code",
   "execution_count": null,
   "metadata": {},
   "outputs": [],
   "source": []
  }
 ],
 "metadata": {
  "kernelspec": {
   "display_name": "Python 3",
   "language": "python",
   "name": "python3"
  },
  "language_info": {
   "codemirror_mode": {
    "name": "ipython",
    "version": 3
   },
   "file_extension": ".py",
   "mimetype": "text/x-python",
   "name": "python",
   "nbconvert_exporter": "python",
   "pygments_lexer": "ipython3",
   "version": "3.6.9"
  }
 },
 "nbformat": 4,
 "nbformat_minor": 2
}
