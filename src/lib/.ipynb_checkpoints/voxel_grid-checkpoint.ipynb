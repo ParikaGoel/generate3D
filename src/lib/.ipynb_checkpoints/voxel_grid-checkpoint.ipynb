{
 "cells": [
  {
   "cell_type": "code",
   "execution_count": 2,
   "metadata": {},
   "outputs": [],
   "source": [
    "import numpy as np"
   ]
  },
  {
   "cell_type": "code",
   "execution_count": 3,
   "metadata": {},
   "outputs": [],
   "source": [
    "class voxel_grid:\n",
    "    \n",
    "    def __init__(self, origin, dim, voxel_scale):\n",
    "        self._dim = dim\n",
    "        self._voxel_scale = voxel_scale\n",
    "        self._origin = origin\n",
    "        self._occ_grid = np.zeros((dim,dim,dim))\n",
    "    \n",
    "    def get_global_coord(grid_coord):\n",
    "        global_coord = np.copy(grid_coord)\n",
    "        global_coord = global_coord.astype(float)\n",
    "        global_coord += 0.5\n",
    "        global_coord *= self._voxel_scale\n",
    "        global_coord += self._origin\n",
    "        return global_coord\n",
    "    \n",
    "    def is_occupied(grid_coord):\n",
    "        if (_occ_grid[grid_coord[0]][grid_coord[0]][grid_coord[0]] == 1):\n",
    "            return True\n",
    "        return False\n",
    "    \n",
    "    def set_occupancy(grid_coord, is_occupied = 1):\n",
    "        _occ_grid[grid_coord[0]][grid_coord[0]][grid_coord[0]] = 1"
   ]
  },
  {
   "cell_type": "code",
   "execution_count": null,
   "metadata": {},
   "outputs": [],
   "source": []
  }
 ],
 "metadata": {
  "kernelspec": {
   "display_name": "Python 3",
   "language": "python",
   "name": "python3"
  },
  "language_info": {
   "codemirror_mode": {
    "name": "ipython",
    "version": 3
   },
   "file_extension": ".py",
   "mimetype": "text/x-python",
   "name": "python",
   "nbconvert_exporter": "python",
   "pygments_lexer": "ipython3",
   "version": "3.6.9"
  }
 },
 "nbformat": 4,
 "nbformat_minor": 2
}
