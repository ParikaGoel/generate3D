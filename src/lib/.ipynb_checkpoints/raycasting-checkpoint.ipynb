{
 "cells": [
  {
   "cell_type": "code",
   "execution_count": 37,
   "metadata": {},
   "outputs": [],
   "source": [
    "import open3d as o3d\n",
    "from voxel_grid import *\n",
    "import cv2\n",
    "from PIL import Image\n",
    "import torch\n",
    "import torchvision\n",
    "import torchvision.transforms as transforms"
   ]
  },
  {
   "cell_type": "code",
   "execution_count": 38,
   "metadata": {},
   "outputs": [],
   "source": [
    "def load_view_point(file, vis):\n",
    "    ctr = vis.get_view_control()\n",
    "    param = o3d.io.read_pinhole_camera_parameters(file)\n",
    "    ctr.convert_from_pinhole_camera_parameters(param)"
   ]
  },
  {
   "cell_type": "code",
   "execution_count": 39,
   "metadata": {},
   "outputs": [],
   "source": [
    "# image = Image.open('/home/parika/WorkingDir/complete3D/results/02828884/1a40eaf5919b1b3f3eaa2b95b99dae6/image/20191130090833.png')\n",
    "image = cv2.imread('/home/parika/WorkingDir/complete3D/results/02828884/1a40eaf5919b1b3f3eaa2b95b99dae6/image/20191130090833.png')\n",
    "# image_new = image.convert('L')"
   ]
  },
  {
   "cell_type": "code",
   "execution_count": 45,
   "metadata": {},
   "outputs": [
    {
     "name": "stdout",
     "output_type": "stream",
     "text": [
      "tensor(1.)\n",
      "tensor(-1.)\n",
      "tensor([-1.0000, -0.4980,  0.0039,  0.4980,  1.0000])\n",
      "torch.Size([3, 480, 480])\n"
     ]
    }
   ],
   "source": [
    "transform = transforms.Compose(\n",
    "                [transforms.ToPILImage('RGB'),\n",
    "                 transforms.ToTensor(),\n",
    "                 transforms.Normalize((0.5,0.5,0.5),(0.5,0.5,0.5))])\n",
    "transformed_image = transform(image)\n",
    "print(transformed_image.shape)"
   ]
  },
  {
   "cell_type": "code",
   "execution_count": null,
   "metadata": {},
   "outputs": [],
   "source": []
  }
 ],
 "metadata": {
  "kernelspec": {
   "display_name": "Python 3",
   "language": "python",
   "name": "python3"
  },
  "language_info": {
   "codemirror_mode": {
    "name": "ipython",
    "version": 3
   },
   "file_extension": ".py",
   "mimetype": "text/x-python",
   "name": "python",
   "nbconvert_exporter": "python",
   "pygments_lexer": "ipython3",
   "version": "3.6.9"
  }
 },
 "nbformat": 4,
 "nbformat_minor": 2
}
