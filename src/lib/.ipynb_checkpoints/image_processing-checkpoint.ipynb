{
 "cells": [
  {
   "cell_type": "code",
   "execution_count": 1,
   "metadata": {},
   "outputs": [],
   "source": [
    "import numpy as np\n",
    "from PIL import Image\n",
    "from config import cfg"
   ]
  },
  {
   "cell_type": "code",
   "execution_count": 2,
   "metadata": {},
   "outputs": [],
   "source": [
    "def add_random_color_background(im, color_range):\n",
    "    r, g, b = [np.random.randint(color_range[i][0], color_range[i][1] + 1) for i in range(3)]\n",
    "\n",
    "    if isinstance(im, Image.Image):\n",
    "        im = np.array(im)\n",
    "\n",
    "    if im.shape[2] > 3:\n",
    "        # If the image has the alpha channel, add the background\n",
    "        alpha = (np.expand_dims(im[:, :, 3], axis=2) == 0).astype(np.float)\n",
    "        im = im[:, :, :3]\n",
    "        bg_color = np.array([[[r, g, b]]])\n",
    "        im = alpha * bg_color + (1 - alpha) * im\n",
    "\n",
    "    return im"
   ]
  },
  {
   "cell_type": "code",
   "execution_count": 3,
   "metadata": {},
   "outputs": [],
   "source": [
    "def image_transform(img, crop_x, crop_y, crop_loc=None, color_tint=None):\n",
    "    \"\"\"\n",
    "    Takes numpy.array img\n",
    "    \"\"\"\n",
    "\n",
    "    # Slight translation\n",
    "    if cfg.TRAIN.RANDOM_CROP and not crop_loc:\n",
    "        crop_loc = [np.random.randint(0, crop_y), np.random.randint(0, crop_x)]\n",
    "\n",
    "    if crop_loc:\n",
    "        cr, cc = crop_loc\n",
    "        height, width, _ = img.shape\n",
    "        img_h = height - crop_y\n",
    "        img_w = width - crop_x\n",
    "        img = img[cr:cr + img_h, cc:cc + img_w]\n",
    "        # depth = depth[cr:cr+img_h, cc:cc+img_w]\n",
    "\n",
    "    if cfg.TRAIN.FLIP and np.random.rand() > 0.5:\n",
    "        img = img[:, ::-1, ...]\n",
    "\n",
    "    return img"
   ]
  },
  {
   "cell_type": "code",
   "execution_count": 4,
   "metadata": {},
   "outputs": [],
   "source": [
    "def preprocess_img(im, train=True):\n",
    "    # add random background\n",
    "    im = add_random_color_background(im, cfg.TRAIN.NO_BG_COLOR_RANGE if train else\n",
    "                                     cfg.TEST.NO_BG_COLOR_RANGE)\n",
    "\n",
    "    # If the image has alpha channel, remove it.\n",
    "    im_rgb = np.array(im)[:, :, :3].astype(np.float32)\n",
    "    if train:\n",
    "        t_im = image_transform(im_rgb, cfg.TRAIN.PAD_X, cfg.TRAIN.PAD_Y)\n",
    "    else:\n",
    "        t_im = crop_center(im_rgb, cfg.CONST.IMG_H, cfg.CONST.IMG_W)\n",
    "\n",
    "    # Scale image\n",
    "    t_im = t_im / 255.\n",
    "\n",
    "    return t_im"
   ]
  },
  {
   "cell_type": "code",
   "execution_count": null,
   "metadata": {},
   "outputs": [],
   "source": [
    "def crop_center(im, new_height, new_width):\n",
    "    height = im.shape[0]  # Get dimensions\n",
    "    width = im.shape[1]\n",
    "    left = (width - new_width) // 2\n",
    "    top = (height - new_height) // 2\n",
    "    right = (width + new_width) // 2\n",
    "    bottom = (height + new_height) // 2\n",
    "    return im[top:bottom, left:right]"
   ]
  },
  {
   "cell_type": "code",
   "execution_count": null,
   "metadata": {},
   "outputs": [],
   "source": [
    "def test(imgFile):\n",
    "    import matplotlib.pyplot as plt\n",
    "    cfg.TRAIN.RANDOM_CROP = True\n",
    "    im = Image.open(imgFile)\n",
    "    im = np.asarray(im)[:, :, :3]\n",
    "    imt = image_transform(im, 10, 10)\n",
    "    plt.imshow(imt)\n",
    "    plt.show()"
   ]
  }
 ],
 "metadata": {
  "kernelspec": {
   "display_name": "Python 3",
   "language": "python",
   "name": "python3"
  },
  "language_info": {
   "codemirror_mode": {
    "name": "ipython",
    "version": 3
   },
   "file_extension": ".py",
   "mimetype": "text/x-python",
   "name": "python",
   "nbconvert_exporter": "python",
   "pygments_lexer": "ipython3",
   "version": "3.6.9"
  }
 },
 "nbformat": 4,
 "nbformat_minor": 2
}
